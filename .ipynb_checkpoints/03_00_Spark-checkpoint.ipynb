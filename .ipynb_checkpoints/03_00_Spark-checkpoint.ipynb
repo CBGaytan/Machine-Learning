{
 "cells": [
  {
   "cell_type": "code",
   "execution_count": 1,
   "id": "29c5c1b1-3d6b-406a-983f-48509b2da61f",
   "metadata": {},
   "outputs": [],
   "source": [
    "import findspark\n",
    "findspark.init()"
   ]
  },
  {
   "cell_type": "code",
   "execution_count": 2,
   "id": "c09895e4-1735-427e-b0d1-9115fcbb98ab",
   "metadata": {},
   "outputs": [
    {
     "data": {
      "text/plain": [
       "<module 'pyspark.version' from 'C:\\\\Users\\\\Jerry\\\\anaconda3\\\\Lib\\\\site-packages\\\\pyspark\\\\version.py'>"
      ]
     },
     "execution_count": 2,
     "metadata": {},
     "output_type": "execute_result"
    }
   ],
   "source": [
    "import pyspark\n",
    "pyspark.version"
   ]
  },
  {
   "cell_type": "code",
   "execution_count": 3,
   "id": "5c3d376b-bc4c-4f51-8850-7e657c45d74f",
   "metadata": {},
   "outputs": [],
   "source": [
    "sc = pyspark.SparkContext(appName = \"prueba\")"
   ]
  },
  {
   "cell_type": "code",
   "execution_count": null,
   "id": "c61466fa-c27a-475c-b318-8a5dc947c683",
   "metadata": {},
   "outputs": [],
   "source": [
    "import requests\n",
    "url = \"http://www.gutenberg.org/ebooks/1112.txt.utf-8\"\n",
    "resp = "
   ]
  },
  {
   "cell_type": "code",
   "execution_count": null,
   "id": "b9397727-434a-43c7-bfc5-f6698c0ad31e",
   "metadata": {},
   "outputs": [],
   "source": [
    "txt = sc.textFile('D:/00_Materias 2020/romeoyjulieta.txt')\n",
    "lineas = txt.filter(lambda linea: \"romeo\" in linea)"
   ]
  }
 ],
 "metadata": {
  "kernelspec": {
   "display_name": "Python 3 (ipykernel)",
   "language": "python",
   "name": "python3"
  },
  "language_info": {
   "codemirror_mode": {
    "name": "ipython",
    "version": 3
   },
   "file_extension": ".py",
   "mimetype": "text/x-python",
   "name": "python",
   "nbconvert_exporter": "python",
   "pygments_lexer": "ipython3",
   "version": "3.12.3"
  }
 },
 "nbformat": 4,
 "nbformat_minor": 5
}
