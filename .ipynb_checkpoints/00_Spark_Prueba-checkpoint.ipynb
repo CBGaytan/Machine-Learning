{
 "cells": [
  {
   "cell_type": "code",
   "execution_count": null,
   "id": "9f0c216a-132d-4b8d-bb2b-5639dd6b7429",
   "metadata": {},
   "outputs": [],
   "source": [
    "import findspark\n",
    "findspark.init()"
   ]
  },
  {
   "cell_type": "code",
   "execution_count": null,
   "id": "7241be61-5a21-4c8a-a2dd-784275ba23c2",
   "metadata": {},
   "outputs": [],
   "source": [
    "import pyspark"
   ]
  },
  {
   "cell_type": "code",
   "execution_count": null,
   "id": "1ea92c2e-c916-4c2a-a319-c5fb6a5220a1",
   "metadata": {},
   "outputs": [
    {
     "data": {
      "text/plain": [
       "<module 'pyspark.version' from 'C:\\\\Users\\\\Jerry\\\\anaconda3\\\\Lib\\\\site-packages\\\\pyspark\\\\version.py'>"
      ]
     },
     "execution_count": 12,
     "metadata": {},
     "output_type": "execute_result"
    }
   ],
   "source": [
    "pyspark.version"
   ]
  },
  {
   "cell_type": "code",
   "execution_count": null,
   "id": "c138e3f7-cc3a-423b-b529-77c68e867a25",
   "metadata": {},
   "outputs": [],
   "source": [
    "sc = pyspark.SparkContext(appName = \"prueba\")"
   ]
  },
  {
   "cell_type": "code",
   "execution_count": null,
   "id": "8317acbd-8caa-4499-b8eb-116f774fe5a6",
   "metadata": {},
   "outputs": [],
   "source": [
    "sc.stop()"
   ]
  }
 ],
 "metadata": {
  "kernelspec": {
   "display_name": "Python 3 (ipykernel)",
   "language": "python",
   "name": "python3"
  },
  "language_info": {
   "codemirror_mode": {
    "name": "ipython",
    "version": 3
   },
   "file_extension": ".py",
   "mimetype": "text/x-python",
   "name": "python",
   "nbconvert_exporter": "python",
   "pygments_lexer": "ipython3",
   "version": "3.12.3"
  }
 },
 "nbformat": 4,
 "nbformat_minor": 5
}
