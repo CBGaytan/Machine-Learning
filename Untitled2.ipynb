{
 "cells": [
  {
   "cell_type": "code",
   "execution_count": 6,
   "id": "f5924271-1ee3-4838-9075-e662a64d9ae5",
   "metadata": {},
   "outputs": [
    {
     "name": "stderr",
     "output_type": "stream",
     "text": [
      "24/12/05 19:07:54 WARN SparkSession: Using an existing Spark session; only runtime SQL configurations will take effect.\n",
      "                                                                                \r"
     ]
    },
    {
     "name": "stdout",
     "output_type": "stream",
     "text": [
      "+-------+---+\n",
      "|   Name|Age|\n",
      "+-------+---+\n",
      "|  Alice| 25|\n",
      "|    Bob| 30|\n",
      "|Charlie| 35|\n",
      "+-------+---+\n",
      "\n"
     ]
    }
   ],
   "source": [
    "from pyspark.sql import SparkSession\n",
    "\n",
    "# Crear la sesión de Spark\n",
    "spark = SparkSession.builder.appName(\"TestSpark\").getOrCreate()\n",
    "\n",
    "# Crear un DataFrame simple\n",
    "data = [(\"Alice\", 25), (\"Bob\", 30), (\"Charlie\", 35)]\n",
    "columns = [\"Name\", \"Age\"]\n",
    "df = spark.createDataFrame(data, columns)\n",
    "\n",
    "# Mostrar el DataFrame\n",
    "df.show()\n"
   ]
  },
  {
   "cell_type": "code",
   "execution_count": 16,
   "id": "063b0527-badd-4c13-9b67-5bcddf61caa7",
   "metadata": {},
   "outputs": [],
   "source": [
    "from pyspark.sql import SparkSession\n",
    "\n",
    "spark = SparkSession.builder \\\n",
    "    .appName(\"StudentData\") \\\n",
    "    .getOrCreate()\n",
    "\n",
    "# Cargar datos desde un archivo CSV\n",
    "df = spark.read.option(\"delimiter\", \";\").csv(\"/Users/cristiangaytan/Downloads/data 2.csv\", header=True, inferSchema=True)\n",
    "\n"
   ]
  },
  {
   "cell_type": "code",
   "execution_count": 20,
   "id": "5f6199be-5f55-4b2b-9180-b7bd48b2c32c",
   "metadata": {},
   "outputs": [
    {
     "name": "stdout",
     "output_type": "stream",
     "text": [
      "['Marital status', 'Application mode', 'Application order', 'Course', 'Daytime/evening attendance\\t', 'Previous qualification', 'Previous qualification (grade)', 'Nacionality', \"Mother's qualification\", \"Father's qualification\", \"Mother's occupation\", \"Father's occupation\", 'Admission grade', 'Displaced', 'Educational special needs', 'Debtor', 'Tuition fees up to date', 'Gender', 'Scholarship holder', 'Age at enrollment', 'International', 'Curricular units 1st sem (credited)', 'Curricular units 1st sem (enrolled)', 'Curricular units 1st sem (evaluations)', 'Curricular units 1st sem (approved)', 'Curricular units 1st sem (grade)', 'Curricular units 1st sem (without evaluations)', 'Curricular units 2nd sem (credited)', 'Curricular units 2nd sem (enrolled)', 'Curricular units 2nd sem (evaluations)', 'Curricular units 2nd sem (approved)', 'Curricular units 2nd sem (grade)', 'Curricular units 2nd sem (without evaluations)', 'Unemployment rate', 'Inflation rate', 'GDP', 'Target']\n"
     ]
    }
   ],
   "source": [
    "print(df.columns)\n",
    "\n"
   ]
  },
  {
   "cell_type": "code",
   "execution_count": 22,
   "id": "e6e108c9-2698-4ed3-bb06-64812ed5cf85",
   "metadata": {},
   "outputs": [],
   "source": [
    "df = df.withColumnRenamed(\"Marital status\", \"Marital_Status\")\n"
   ]
  },
  {
   "cell_type": "code",
   "execution_count": 24,
   "id": "5c543f10-36ec-417b-9ec9-27771d4be89a",
   "metadata": {},
   "outputs": [],
   "source": [
    "indexer = StringIndexer(inputCol=\"Marital_Status\", outputCol=\"Marital_Status_Index\")\n",
    "df = indexer.fit(df).transform(df)\n"
   ]
  },
  {
   "cell_type": "code",
   "execution_count": 26,
   "id": "ed2902ba-a5bb-45c7-88af-830341fbcf23",
   "metadata": {},
   "outputs": [],
   "source": [
    "df = df.na.fill({\"Age at enrollment\": 18})"
   ]
  },
  {
   "cell_type": "code",
   "execution_count": 28,
   "id": "1e054407-2b70-4563-9fd3-d3a0e969e45f",
   "metadata": {},
   "outputs": [
    {
     "name": "stderr",
     "output_type": "stream",
     "text": [
      "24/12/05 19:26:42 WARN SparkStringUtils: Truncated the string representation of a plan since it was too large. This behavior can be adjusted by setting 'spark.sql.debug.maxToStringFields'.\n",
      "[Stage 10:>                                                         (0 + 1) / 1]\r"
     ]
    },
    {
     "name": "stdout",
     "output_type": "stream",
     "text": [
      "+-------+------------------+------------------+------------------+-----------------+----------------------------+----------------------+------------------------------+------------------+----------------------+----------------------+-------------------+-------------------+------------------+-------------------+-------------------------+-------------------+-----------------------+-------------------+-------------------+------------------+--------------------+-----------------------------------+-----------------------------------+--------------------------------------+-----------------------------------+--------------------------------+----------------------------------------------+-----------------------------------+-----------------------------------+--------------------------------------+-----------------------------------+--------------------------------+----------------------------------------------+------------------+------------------+--------------------+--------+--------------------+\n",
      "|summary|    Marital_Status|  Application mode| Application order|           Course|Daytime/evening attendance\\t|Previous qualification|Previous qualification (grade)|       Nacionality|Mother's qualification|Father's qualification|Mother's occupation|Father's occupation|   Admission grade|          Displaced|Educational special needs|             Debtor|Tuition fees up to date|             Gender| Scholarship holder| Age at enrollment|       International|Curricular units 1st sem (credited)|Curricular units 1st sem (enrolled)|Curricular units 1st sem (evaluations)|Curricular units 1st sem (approved)|Curricular units 1st sem (grade)|Curricular units 1st sem (without evaluations)|Curricular units 2nd sem (credited)|Curricular units 2nd sem (enrolled)|Curricular units 2nd sem (evaluations)|Curricular units 2nd sem (approved)|Curricular units 2nd sem (grade)|Curricular units 2nd sem (without evaluations)| Unemployment rate|    Inflation rate|                 GDP|  Target|Marital_Status_Index|\n",
      "+-------+------------------+------------------+------------------+-----------------+----------------------------+----------------------+------------------------------+------------------+----------------------+----------------------+-------------------+-------------------+------------------+-------------------+-------------------------+-------------------+-----------------------+-------------------+-------------------+------------------+--------------------+-----------------------------------+-----------------------------------+--------------------------------------+-----------------------------------+--------------------------------+----------------------------------------------+-----------------------------------+-----------------------------------+--------------------------------------+-----------------------------------+--------------------------------+----------------------------------------------+------------------+------------------+--------------------+--------+--------------------+\n",
      "|  count|              4424|              4424|              4424|             4424|                        4424|                  4424|                          4424|              4424|                  4424|                  4424|               4424|               4424|              4424|               4424|                     4424|               4424|                   4424|               4424|               4424|              4424|                4424|                               4424|                               4424|                                  4424|                               4424|                            4424|                                          4424|                               4424|                               4424|                                  4424|                               4424|                            4424|                                          4424|              4424|              4424|                4424|    4424|                4424|\n",
      "|   mean|1.1785714285714286|18.669077757685354|1.7278481012658229|8856.642631103074|          0.8908227848101266|     4.577757685352622|             132.6133137432175|1.8731916817359855|    19.561934900542497|    22.275316455696203| 10.960895117540687| 11.032323688969258|126.97811934900518|  0.548372513562387|     0.011528028933092224|0.11369801084990959|     0.8806509945750453|0.35171790235081374|0.24841772151898733|23.265144665461122|0.024864376130198915|                 0.7099909584086799|                 6.2705696202531644|                     8.299050632911392|                  4.706600361663653|               10.64082157515418|                           0.13765822784810128|                 0.5418173598553345|                  6.232142857142857|                     8.063291139240507|                  4.435804701627487|               10.23020572271699|                           0.15031645569620253|11.566139240506441|1.2280289330922112|0.001968806509945...|    NULL| 0.15370705244122965|\n",
      "| stddev|0.6057469461307102|17.484682291004752|1.3137930783622085| 2063.56641619752|          0.3118966814817876|     10.21659234126795|            13.188331685876214|  6.91451403233014|    15.603186323037942|    15.343107814088603| 26.418252905143078|  25.26304024234495|14.482000818849468|0.49771085343169463|      0.10676005722115342|0.31748000965782086|     0.3242353829723815| 0.4775604370624543| 0.4321441539121947| 7.587815615029822|  0.1557293188868082|                  2.360506619118198|                  2.480178175307154|                     4.179105569144034|                  3.094237979693976|               4.843663380663811|                            0.6908801837297972|                 1.9185461437101976|                  2.195950751463239|                    3.9479509414374094|                 3.0147639023855373|               5.210807954644237|                              0.75377406851301|2.6638504843026363|1.3827106915401113|  2.2699354412537676|    NULL| 0.48942680218384027|\n",
      "|    min|                 1|                 1|                 0|               33|                           0|                     1|                          95.0|                 1|                     1|                     1|                  0|                  0|              95.0|                  0|                        0|                  0|                      0|                  0|                  0|                17|                   0|                                  0|                                  0|                                     0|                                  0|                             0.0|                                             0|                                  0|                                  0|                                     0|                                  0|                             0.0|                                             0|               7.6|              -0.8|               -4.06| Dropout|                 0.0|\n",
      "|    max|                 6|                57|                 9|             9991|                           1|                    43|                         190.0|               109|                    44|                    44|                194|                195|             190.0|                  1|                        1|                  1|                      1|                  1|                  1|                70|                   1|                                 20|                                 26|                                    45|                                 26|                          18.875|                                            12|                                 19|                                 23|                                    33|                                 20|              18.571428571428573|                                            12|              16.2|               3.7|                3.51|Graduate|                 5.0|\n",
      "+-------+------------------+------------------+------------------+-----------------+----------------------------+----------------------+------------------------------+------------------+----------------------+----------------------+-------------------+-------------------+------------------+-------------------+-------------------------+-------------------+-----------------------+-------------------+-------------------+------------------+--------------------+-----------------------------------+-----------------------------------+--------------------------------------+-----------------------------------+--------------------------------+----------------------------------------------+-----------------------------------+-----------------------------------+--------------------------------------+-----------------------------------+--------------------------------+----------------------------------------------+------------------+------------------+--------------------+--------+--------------------+\n",
      "\n",
      "root\n",
      " |-- Marital_Status: integer (nullable = true)\n",
      " |-- Application mode: integer (nullable = true)\n",
      " |-- Application order: integer (nullable = true)\n",
      " |-- Course: integer (nullable = true)\n",
      " |-- Daytime/evening attendance\\t: integer (nullable = true)\n",
      " |-- Previous qualification: integer (nullable = true)\n",
      " |-- Previous qualification (grade): double (nullable = true)\n",
      " |-- Nacionality: integer (nullable = true)\n",
      " |-- Mother's qualification: integer (nullable = true)\n",
      " |-- Father's qualification: integer (nullable = true)\n",
      " |-- Mother's occupation: integer (nullable = true)\n",
      " |-- Father's occupation: integer (nullable = true)\n",
      " |-- Admission grade: double (nullable = true)\n",
      " |-- Displaced: integer (nullable = true)\n",
      " |-- Educational special needs: integer (nullable = true)\n",
      " |-- Debtor: integer (nullable = true)\n",
      " |-- Tuition fees up to date: integer (nullable = true)\n",
      " |-- Gender: integer (nullable = true)\n",
      " |-- Scholarship holder: integer (nullable = true)\n",
      " |-- Age at enrollment: integer (nullable = false)\n",
      " |-- International: integer (nullable = true)\n",
      " |-- Curricular units 1st sem (credited): integer (nullable = true)\n",
      " |-- Curricular units 1st sem (enrolled): integer (nullable = true)\n",
      " |-- Curricular units 1st sem (evaluations): integer (nullable = true)\n",
      " |-- Curricular units 1st sem (approved): integer (nullable = true)\n",
      " |-- Curricular units 1st sem (grade): double (nullable = true)\n",
      " |-- Curricular units 1st sem (without evaluations): integer (nullable = true)\n",
      " |-- Curricular units 2nd sem (credited): integer (nullable = true)\n",
      " |-- Curricular units 2nd sem (enrolled): integer (nullable = true)\n",
      " |-- Curricular units 2nd sem (evaluations): integer (nullable = true)\n",
      " |-- Curricular units 2nd sem (approved): integer (nullable = true)\n",
      " |-- Curricular units 2nd sem (grade): double (nullable = true)\n",
      " |-- Curricular units 2nd sem (without evaluations): integer (nullable = true)\n",
      " |-- Unemployment rate: double (nullable = true)\n",
      " |-- Inflation rate: double (nullable = true)\n",
      " |-- GDP: double (nullable = true)\n",
      " |-- Target: string (nullable = true)\n",
      " |-- Marital_Status_Index: double (nullable = false)\n",
      "\n"
     ]
    },
    {
     "name": "stderr",
     "output_type": "stream",
     "text": [
      "                                                                                \r"
     ]
    }
   ],
   "source": [
    "# Mostrar estadísticas descriptivas\n",
    "df.describe().show()\n",
    "\n",
    "# Ver el esquema de los datos\n",
    "df.printSchema()\n"
   ]
  },
  {
   "cell_type": "code",
   "execution_count": 30,
   "id": "0c9c8742-6881-495a-928d-661994647d8b",
   "metadata": {},
   "outputs": [
    {
     "name": "stdout",
     "output_type": "stream",
     "text": [
      "+-------+------------------+------------------+------------------+-----------------+----------------------------+----------------------+------------------------------+------------------+----------------------+----------------------+-------------------+-------------------+------------------+-------------------+-------------------------+-------------------+-----------------------+-------------------+-------------------+------------------+--------------------+-----------------------------------+-----------------------------------+--------------------------------------+-----------------------------------+--------------------------------+----------------------------------------------+-----------------------------------+-----------------------------------+--------------------------------------+-----------------------------------+--------------------------------+----------------------------------------------+------------------+------------------+--------------------+--------+--------------------+\n",
      "|summary|    Marital_Status|  Application mode| Application order|           Course|Daytime/evening attendance\\t|Previous qualification|Previous qualification (grade)|       Nacionality|Mother's qualification|Father's qualification|Mother's occupation|Father's occupation|   Admission grade|          Displaced|Educational special needs|             Debtor|Tuition fees up to date|             Gender| Scholarship holder| Age at enrollment|       International|Curricular units 1st sem (credited)|Curricular units 1st sem (enrolled)|Curricular units 1st sem (evaluations)|Curricular units 1st sem (approved)|Curricular units 1st sem (grade)|Curricular units 1st sem (without evaluations)|Curricular units 2nd sem (credited)|Curricular units 2nd sem (enrolled)|Curricular units 2nd sem (evaluations)|Curricular units 2nd sem (approved)|Curricular units 2nd sem (grade)|Curricular units 2nd sem (without evaluations)| Unemployment rate|    Inflation rate|                 GDP|  Target|Marital_Status_Index|\n",
      "+-------+------------------+------------------+------------------+-----------------+----------------------------+----------------------+------------------------------+------------------+----------------------+----------------------+-------------------+-------------------+------------------+-------------------+-------------------------+-------------------+-----------------------+-------------------+-------------------+------------------+--------------------+-----------------------------------+-----------------------------------+--------------------------------------+-----------------------------------+--------------------------------+----------------------------------------------+-----------------------------------+-----------------------------------+--------------------------------------+-----------------------------------+--------------------------------+----------------------------------------------+------------------+------------------+--------------------+--------+--------------------+\n",
      "|  count|              4424|              4424|              4424|             4424|                        4424|                  4424|                          4424|              4424|                  4424|                  4424|               4424|               4424|              4424|               4424|                     4424|               4424|                   4424|               4424|               4424|              4424|                4424|                               4424|                               4424|                                  4424|                               4424|                            4424|                                          4424|                               4424|                               4424|                                  4424|                               4424|                            4424|                                          4424|              4424|              4424|                4424|    4424|                4424|\n",
      "|   mean|1.1785714285714286|18.669077757685354|1.7278481012658229|8856.642631103074|          0.8908227848101266|     4.577757685352622|             132.6133137432175|1.8731916817359855|    19.561934900542497|    22.275316455696203| 10.960895117540687| 11.032323688969258|126.97811934900518|  0.548372513562387|     0.011528028933092224|0.11369801084990959|     0.8806509945750453|0.35171790235081374|0.24841772151898733|23.265144665461122|0.024864376130198915|                 0.7099909584086799|                 6.2705696202531644|                     8.299050632911392|                  4.706600361663653|               10.64082157515418|                           0.13765822784810128|                 0.5418173598553345|                  6.232142857142857|                     8.063291139240507|                  4.435804701627487|               10.23020572271699|                           0.15031645569620253|11.566139240506441|1.2280289330922112|0.001968806509945...|    NULL| 0.15370705244122965|\n",
      "| stddev|0.6057469461307102|17.484682291004752|1.3137930783622085| 2063.56641619752|          0.3118966814817876|     10.21659234126795|            13.188331685876214|  6.91451403233014|    15.603186323037942|    15.343107814088603| 26.418252905143078|  25.26304024234495|14.482000818849468|0.49771085343169463|      0.10676005722115342|0.31748000965782086|     0.3242353829723815| 0.4775604370624543| 0.4321441539121947| 7.587815615029822|  0.1557293188868082|                  2.360506619118198|                  2.480178175307154|                     4.179105569144034|                  3.094237979693976|               4.843663380663811|                            0.6908801837297972|                 1.9185461437101976|                  2.195950751463239|                    3.9479509414374094|                 3.0147639023855373|               5.210807954644237|                              0.75377406851301|2.6638504843026363|1.3827106915401113|  2.2699354412537676|    NULL| 0.48942680218384027|\n",
      "|    min|                 1|                 1|                 0|               33|                           0|                     1|                          95.0|                 1|                     1|                     1|                  0|                  0|              95.0|                  0|                        0|                  0|                      0|                  0|                  0|                17|                   0|                                  0|                                  0|                                     0|                                  0|                             0.0|                                             0|                                  0|                                  0|                                     0|                                  0|                             0.0|                                             0|               7.6|              -0.8|               -4.06| Dropout|                 0.0|\n",
      "|    max|                 6|                57|                 9|             9991|                           1|                    43|                         190.0|               109|                    44|                    44|                194|                195|             190.0|                  1|                        1|                  1|                      1|                  1|                  1|                70|                   1|                                 20|                                 26|                                    45|                                 26|                          18.875|                                            12|                                 19|                                 23|                                    33|                                 20|              18.571428571428573|                                            12|              16.2|               3.7|                3.51|Graduate|                 5.0|\n",
      "+-------+------------------+------------------+------------------+-----------------+----------------------------+----------------------+------------------------------+------------------+----------------------+----------------------+-------------------+-------------------+------------------+-------------------+-------------------------+-------------------+-----------------------+-------------------+-------------------+------------------+--------------------+-----------------------------------+-----------------------------------+--------------------------------------+-----------------------------------+--------------------------------+----------------------------------------------+-----------------------------------+-----------------------------------+--------------------------------------+-----------------------------------+--------------------------------+----------------------------------------------+------------------+------------------+--------------------+--------+--------------------+\n",
      "\n",
      "root\n",
      " |-- Marital_Status: integer (nullable = true)\n",
      " |-- Application mode: integer (nullable = true)\n",
      " |-- Application order: integer (nullable = true)\n",
      " |-- Course: integer (nullable = true)\n",
      " |-- Daytime/evening attendance\\t: integer (nullable = true)\n",
      " |-- Previous qualification: integer (nullable = true)\n",
      " |-- Previous qualification (grade): double (nullable = true)\n",
      " |-- Nacionality: integer (nullable = true)\n",
      " |-- Mother's qualification: integer (nullable = true)\n",
      " |-- Father's qualification: integer (nullable = true)\n",
      " |-- Mother's occupation: integer (nullable = true)\n",
      " |-- Father's occupation: integer (nullable = true)\n",
      " |-- Admission grade: double (nullable = true)\n",
      " |-- Displaced: integer (nullable = true)\n",
      " |-- Educational special needs: integer (nullable = true)\n",
      " |-- Debtor: integer (nullable = true)\n",
      " |-- Tuition fees up to date: integer (nullable = true)\n",
      " |-- Gender: integer (nullable = true)\n",
      " |-- Scholarship holder: integer (nullable = true)\n",
      " |-- Age at enrollment: integer (nullable = false)\n",
      " |-- International: integer (nullable = true)\n",
      " |-- Curricular units 1st sem (credited): integer (nullable = true)\n",
      " |-- Curricular units 1st sem (enrolled): integer (nullable = true)\n",
      " |-- Curricular units 1st sem (evaluations): integer (nullable = true)\n",
      " |-- Curricular units 1st sem (approved): integer (nullable = true)\n",
      " |-- Curricular units 1st sem (grade): double (nullable = true)\n",
      " |-- Curricular units 1st sem (without evaluations): integer (nullable = true)\n",
      " |-- Curricular units 2nd sem (credited): integer (nullable = true)\n",
      " |-- Curricular units 2nd sem (enrolled): integer (nullable = true)\n",
      " |-- Curricular units 2nd sem (evaluations): integer (nullable = true)\n",
      " |-- Curricular units 2nd sem (approved): integer (nullable = true)\n",
      " |-- Curricular units 2nd sem (grade): double (nullable = true)\n",
      " |-- Curricular units 2nd sem (without evaluations): integer (nullable = true)\n",
      " |-- Unemployment rate: double (nullable = true)\n",
      " |-- Inflation rate: double (nullable = true)\n",
      " |-- GDP: double (nullable = true)\n",
      " |-- Target: string (nullable = true)\n",
      " |-- Marital_Status_Index: double (nullable = false)\n",
      "\n"
     ]
    }
   ],
   "source": [
    "# Mostrar estadísticas descriptivas\n",
    "df.describe().show()\n",
    "\n",
    "# Ver el esquema de los datos\n",
    "df.printSchema()\n"
   ]
  },
  {
   "cell_type": "code",
   "execution_count": 32,
   "id": "d833cec9-ebf3-4f45-b678-9d257710bd29",
   "metadata": {},
   "outputs": [
    {
     "name": "stdout",
     "output_type": "stream",
     "text": [
      "+---------+----------+\n",
      "|Displaced|prediction|\n",
      "+---------+----------+\n",
      "|        0|       1.0|\n",
      "|        0|       1.0|\n",
      "|        1|       1.0|\n",
      "|        0|       1.0|\n",
      "|        1|       1.0|\n",
      "|        1|       1.0|\n",
      "|        1|       1.0|\n",
      "|        1|       1.0|\n",
      "|        1|       1.0|\n",
      "|        1|       1.0|\n",
      "|        1|       1.0|\n",
      "|        1|       1.0|\n",
      "|        1|       1.0|\n",
      "|        1|       1.0|\n",
      "|        1|       1.0|\n",
      "|        1|       1.0|\n",
      "|        1|       1.0|\n",
      "|        1|       1.0|\n",
      "|        1|       1.0|\n",
      "|        1|       1.0|\n",
      "+---------+----------+\n",
      "only showing top 20 rows\n",
      "\n"
     ]
    }
   ],
   "source": [
    "from pyspark.ml.classification import RandomForestClassifier\n",
    "from pyspark.ml.feature import VectorAssembler\n",
    "\n",
    "# Preparar las características (features)\n",
    "assembler = VectorAssembler(inputCols=[\"Age at enrollment\", \"Admission grade\", \"Curricular units 1st sem (approved)\"], outputCol=\"features\")\n",
    "df = assembler.transform(df)\n",
    "\n",
    "# Dividir en entrenamiento y prueba\n",
    "train_data, test_data = df.randomSplit([0.8, 0.2], seed=1234)\n",
    "\n",
    "# Crear y entrenar el modelo\n",
    "rf = RandomForestClassifier(labelCol=\"Displaced\", featuresCol=\"features\")\n",
    "model = rf.fit(train_data)\n",
    "\n",
    "# Realizar predicciones\n",
    "predictions = model.transform(test_data)\n",
    "predictions.select(\"Displaced\", \"prediction\").show()\n"
   ]
  },
  {
   "cell_type": "code",
   "execution_count": 34,
   "id": "d70a0ab2-0ca2-4173-a6a5-b53d54e21e95",
   "metadata": {},
   "outputs": [
    {
     "name": "stdout",
     "output_type": "stream",
     "text": [
      "Accuracy: 0.6886792452830188\n"
     ]
    }
   ],
   "source": [
    "from pyspark.ml.evaluation import MulticlassClassificationEvaluator\n",
    "\n",
    "evaluator = MulticlassClassificationEvaluator(labelCol=\"Displaced\", predictionCol=\"prediction\", metricName=\"accuracy\")\n",
    "accuracy = evaluator.evaluate(predictions)\n",
    "print(\"Accuracy:\", accuracy)\n"
   ]
  },
  {
   "cell_type": "code",
   "execution_count": 1,
   "id": "8db3cf9c-f0dd-4619-853f-6cb3f8071de2",
   "metadata": {},
   "outputs": [
    {
     "ename": "NameError",
     "evalue": "name 'indexed_df' is not defined",
     "output_type": "error",
     "traceback": [
      "\u001b[0;31m---------------------------------------------------------------------------\u001b[0m",
      "\u001b[0;31mNameError\u001b[0m                                 Traceback (most recent call last)",
      "Cell \u001b[0;32mIn[1], line 1\u001b[0m\n\u001b[0;32m----> 1\u001b[0m indexed_df\u001b[38;5;241m.\u001b[39mprintSchema()\n",
      "\u001b[0;31mNameError\u001b[0m: name 'indexed_df' is not defined"
     ]
    }
   ],
   "source": [
    "indexed_df.printSchema()\n"
   ]
  },
  {
   "cell_type": "code",
   "execution_count": 74,
   "id": "cc013ea5-4205-4201-a793-e23efd976641",
   "metadata": {},
   "outputs": [
    {
     "ename": "ConnectionRefusedError",
     "evalue": "[Errno 61] Connection refused",
     "output_type": "error",
     "traceback": [
      "\u001b[0;31m---------------------------------------------------------------------------\u001b[0m",
      "\u001b[0;31mConnectionRefusedError\u001b[0m                    Traceback (most recent call last)",
      "Cell \u001b[0;32mIn[74], line 7\u001b[0m\n\u001b[1;32m      4\u001b[0m feature_columns \u001b[38;5;241m=\u001b[39m [\u001b[38;5;124m'\u001b[39m\u001b[38;5;124mMarital_Status_Index\u001b[39m\u001b[38;5;124m'\u001b[39m, \u001b[38;5;124m'\u001b[39m\u001b[38;5;124mAge at enrollment\u001b[39m\u001b[38;5;124m'\u001b[39m, \u001b[38;5;124m'\u001b[39m\u001b[38;5;124mGender\u001b[39m\u001b[38;5;124m'\u001b[39m, \u001b[38;5;124m'\u001b[39m\u001b[38;5;124mTuition fees up to date\u001b[39m\u001b[38;5;124m'\u001b[39m]  \u001b[38;5;66;03m# Ajusta según las columnas que uses\u001b[39;00m\n\u001b[1;32m      6\u001b[0m \u001b[38;5;66;03m# Usar un nombre diferente para la columna de características\u001b[39;00m\n\u001b[0;32m----> 7\u001b[0m assembler \u001b[38;5;241m=\u001b[39m VectorAssembler(inputCols\u001b[38;5;241m=\u001b[39mfeature_columns, outputCol\u001b[38;5;241m=\u001b[39m\u001b[38;5;124m\"\u001b[39m\u001b[38;5;124massembled_features\u001b[39m\u001b[38;5;124m\"\u001b[39m)\n\u001b[1;32m      9\u001b[0m \u001b[38;5;66;03m# Transformar los datos\u001b[39;00m\n\u001b[1;32m     10\u001b[0m assembled_data \u001b[38;5;241m=\u001b[39m assembler\u001b[38;5;241m.\u001b[39mtransform(indexed_df)\n",
      "File \u001b[0;32m/opt/anaconda3/lib/python3.12/site-packages/pyspark/__init__.py:139\u001b[0m, in \u001b[0;36mkeyword_only.<locals>.wrapper\u001b[0;34m(self, *args, **kwargs)\u001b[0m\n\u001b[1;32m    137\u001b[0m     \u001b[38;5;28;01mraise\u001b[39;00m \u001b[38;5;167;01mTypeError\u001b[39;00m(\u001b[38;5;124m\"\u001b[39m\u001b[38;5;124mMethod \u001b[39m\u001b[38;5;132;01m%s\u001b[39;00m\u001b[38;5;124m forces keyword arguments.\u001b[39m\u001b[38;5;124m\"\u001b[39m \u001b[38;5;241m%\u001b[39m func\u001b[38;5;241m.\u001b[39m\u001b[38;5;18m__name__\u001b[39m)\n\u001b[1;32m    138\u001b[0m \u001b[38;5;28mself\u001b[39m\u001b[38;5;241m.\u001b[39m_input_kwargs \u001b[38;5;241m=\u001b[39m kwargs\n\u001b[0;32m--> 139\u001b[0m \u001b[38;5;28;01mreturn\u001b[39;00m func(\u001b[38;5;28mself\u001b[39m, \u001b[38;5;241m*\u001b[39m\u001b[38;5;241m*\u001b[39mkwargs)\n",
      "File \u001b[0;32m/opt/anaconda3/lib/python3.12/site-packages/pyspark/ml/feature.py:5358\u001b[0m, in \u001b[0;36mVectorAssembler.__init__\u001b[0;34m(self, inputCols, outputCol, handleInvalid)\u001b[0m\n\u001b[1;32m   5354\u001b[0m \u001b[38;5;250m\u001b[39m\u001b[38;5;124;03m\"\"\"\u001b[39;00m\n\u001b[1;32m   5355\u001b[0m \u001b[38;5;124;03m__init__(self, \\\\*, inputCols=None, outputCol=None, handleInvalid=\"error\")\u001b[39;00m\n\u001b[1;32m   5356\u001b[0m \u001b[38;5;124;03m\"\"\"\u001b[39;00m\n\u001b[1;32m   5357\u001b[0m \u001b[38;5;28msuper\u001b[39m(VectorAssembler, \u001b[38;5;28mself\u001b[39m)\u001b[38;5;241m.\u001b[39m\u001b[38;5;21m__init__\u001b[39m()\n\u001b[0;32m-> 5358\u001b[0m \u001b[38;5;28mself\u001b[39m\u001b[38;5;241m.\u001b[39m_java_obj \u001b[38;5;241m=\u001b[39m \u001b[38;5;28mself\u001b[39m\u001b[38;5;241m.\u001b[39m_new_java_obj(\u001b[38;5;124m\"\u001b[39m\u001b[38;5;124morg.apache.spark.ml.feature.VectorAssembler\u001b[39m\u001b[38;5;124m\"\u001b[39m, \u001b[38;5;28mself\u001b[39m\u001b[38;5;241m.\u001b[39muid)\n\u001b[1;32m   5359\u001b[0m \u001b[38;5;28mself\u001b[39m\u001b[38;5;241m.\u001b[39m_setDefault(handleInvalid\u001b[38;5;241m=\u001b[39m\u001b[38;5;124m\"\u001b[39m\u001b[38;5;124merror\u001b[39m\u001b[38;5;124m\"\u001b[39m)\n\u001b[1;32m   5360\u001b[0m kwargs \u001b[38;5;241m=\u001b[39m \u001b[38;5;28mself\u001b[39m\u001b[38;5;241m.\u001b[39m_input_kwargs\n",
      "File \u001b[0;32m/opt/anaconda3/lib/python3.12/site-packages/pyspark/ml/wrapper.py:84\u001b[0m, in \u001b[0;36mJavaWrapper._new_java_obj\u001b[0;34m(java_class, *args)\u001b[0m\n\u001b[1;32m     82\u001b[0m java_obj \u001b[38;5;241m=\u001b[39m _jvm()\n\u001b[1;32m     83\u001b[0m \u001b[38;5;28;01mfor\u001b[39;00m name \u001b[38;5;129;01min\u001b[39;00m java_class\u001b[38;5;241m.\u001b[39msplit(\u001b[38;5;124m\"\u001b[39m\u001b[38;5;124m.\u001b[39m\u001b[38;5;124m\"\u001b[39m):\n\u001b[0;32m---> 84\u001b[0m     java_obj \u001b[38;5;241m=\u001b[39m \u001b[38;5;28mgetattr\u001b[39m(java_obj, name)\n\u001b[1;32m     85\u001b[0m java_args \u001b[38;5;241m=\u001b[39m [_py2java(sc, arg) \u001b[38;5;28;01mfor\u001b[39;00m arg \u001b[38;5;129;01min\u001b[39;00m args]\n\u001b[1;32m     86\u001b[0m \u001b[38;5;28;01mreturn\u001b[39;00m java_obj(\u001b[38;5;241m*\u001b[39mjava_args)\n",
      "File \u001b[0;32m/opt/anaconda3/lib/python3.12/site-packages/py4j/java_gateway.py:1712\u001b[0m, in \u001b[0;36mJVMView.__getattr__\u001b[0;34m(self, name)\u001b[0m\n\u001b[1;32m   1709\u001b[0m \u001b[38;5;28;01mif\u001b[39;00m name \u001b[38;5;241m==\u001b[39m UserHelpAutoCompletion\u001b[38;5;241m.\u001b[39mKEY:\n\u001b[1;32m   1710\u001b[0m     \u001b[38;5;28;01mreturn\u001b[39;00m UserHelpAutoCompletion()\n\u001b[0;32m-> 1712\u001b[0m answer \u001b[38;5;241m=\u001b[39m \u001b[38;5;28mself\u001b[39m\u001b[38;5;241m.\u001b[39m_gateway_client\u001b[38;5;241m.\u001b[39msend_command(\n\u001b[1;32m   1713\u001b[0m     proto\u001b[38;5;241m.\u001b[39mREFLECTION_COMMAND_NAME \u001b[38;5;241m+\u001b[39m\n\u001b[1;32m   1714\u001b[0m     proto\u001b[38;5;241m.\u001b[39mREFL_GET_UNKNOWN_SUB_COMMAND_NAME \u001b[38;5;241m+\u001b[39m name \u001b[38;5;241m+\u001b[39m \u001b[38;5;124m\"\u001b[39m\u001b[38;5;130;01m\\n\u001b[39;00m\u001b[38;5;124m\"\u001b[39m \u001b[38;5;241m+\u001b[39m \u001b[38;5;28mself\u001b[39m\u001b[38;5;241m.\u001b[39m_id \u001b[38;5;241m+\u001b[39m\n\u001b[1;32m   1715\u001b[0m     \u001b[38;5;124m\"\u001b[39m\u001b[38;5;130;01m\\n\u001b[39;00m\u001b[38;5;124m\"\u001b[39m \u001b[38;5;241m+\u001b[39m proto\u001b[38;5;241m.\u001b[39mEND_COMMAND_PART)\n\u001b[1;32m   1716\u001b[0m \u001b[38;5;28;01mif\u001b[39;00m answer \u001b[38;5;241m==\u001b[39m proto\u001b[38;5;241m.\u001b[39mSUCCESS_PACKAGE:\n\u001b[1;32m   1717\u001b[0m     \u001b[38;5;28;01mreturn\u001b[39;00m JavaPackage(name, \u001b[38;5;28mself\u001b[39m\u001b[38;5;241m.\u001b[39m_gateway_client, jvm_id\u001b[38;5;241m=\u001b[39m\u001b[38;5;28mself\u001b[39m\u001b[38;5;241m.\u001b[39m_id)\n",
      "File \u001b[0;32m/opt/anaconda3/lib/python3.12/site-packages/py4j/java_gateway.py:1036\u001b[0m, in \u001b[0;36mGatewayClient.send_command\u001b[0;34m(self, command, retry, binary)\u001b[0m\n\u001b[1;32m   1015\u001b[0m \u001b[38;5;28;01mdef\u001b[39;00m \u001b[38;5;21msend_command\u001b[39m(\u001b[38;5;28mself\u001b[39m, command, retry\u001b[38;5;241m=\u001b[39m\u001b[38;5;28;01mTrue\u001b[39;00m, binary\u001b[38;5;241m=\u001b[39m\u001b[38;5;28;01mFalse\u001b[39;00m):\n\u001b[1;32m   1016\u001b[0m \u001b[38;5;250m    \u001b[39m\u001b[38;5;124;03m\"\"\"Sends a command to the JVM. This method is not intended to be\u001b[39;00m\n\u001b[1;32m   1017\u001b[0m \u001b[38;5;124;03m       called directly by Py4J users. It is usually called by\u001b[39;00m\n\u001b[1;32m   1018\u001b[0m \u001b[38;5;124;03m       :class:`JavaMember` instances.\u001b[39;00m\n\u001b[0;32m   (...)\u001b[0m\n\u001b[1;32m   1034\u001b[0m \u001b[38;5;124;03m     if `binary` is `True`.\u001b[39;00m\n\u001b[1;32m   1035\u001b[0m \u001b[38;5;124;03m    \"\"\"\u001b[39;00m\n\u001b[0;32m-> 1036\u001b[0m     connection \u001b[38;5;241m=\u001b[39m \u001b[38;5;28mself\u001b[39m\u001b[38;5;241m.\u001b[39m_get_connection()\n\u001b[1;32m   1037\u001b[0m     \u001b[38;5;28;01mtry\u001b[39;00m:\n\u001b[1;32m   1038\u001b[0m         response \u001b[38;5;241m=\u001b[39m connection\u001b[38;5;241m.\u001b[39msend_command(command)\n",
      "File \u001b[0;32m/opt/anaconda3/lib/python3.12/site-packages/py4j/clientserver.py:284\u001b[0m, in \u001b[0;36mJavaClient._get_connection\u001b[0;34m(self)\u001b[0m\n\u001b[1;32m    281\u001b[0m     \u001b[38;5;28;01mpass\u001b[39;00m\n\u001b[1;32m    283\u001b[0m \u001b[38;5;28;01mif\u001b[39;00m connection \u001b[38;5;129;01mis\u001b[39;00m \u001b[38;5;28;01mNone\u001b[39;00m \u001b[38;5;129;01mor\u001b[39;00m connection\u001b[38;5;241m.\u001b[39msocket \u001b[38;5;129;01mis\u001b[39;00m \u001b[38;5;28;01mNone\u001b[39;00m:\n\u001b[0;32m--> 284\u001b[0m     connection \u001b[38;5;241m=\u001b[39m \u001b[38;5;28mself\u001b[39m\u001b[38;5;241m.\u001b[39m_create_new_connection()\n\u001b[1;32m    285\u001b[0m \u001b[38;5;28;01mreturn\u001b[39;00m connection\n",
      "File \u001b[0;32m/opt/anaconda3/lib/python3.12/site-packages/py4j/clientserver.py:291\u001b[0m, in \u001b[0;36mJavaClient._create_new_connection\u001b[0;34m(self)\u001b[0m\n\u001b[1;32m    287\u001b[0m \u001b[38;5;28;01mdef\u001b[39;00m \u001b[38;5;21m_create_new_connection\u001b[39m(\u001b[38;5;28mself\u001b[39m):\n\u001b[1;32m    288\u001b[0m     connection \u001b[38;5;241m=\u001b[39m ClientServerConnection(\n\u001b[1;32m    289\u001b[0m         \u001b[38;5;28mself\u001b[39m\u001b[38;5;241m.\u001b[39mjava_parameters, \u001b[38;5;28mself\u001b[39m\u001b[38;5;241m.\u001b[39mpython_parameters,\n\u001b[1;32m    290\u001b[0m         \u001b[38;5;28mself\u001b[39m\u001b[38;5;241m.\u001b[39mgateway_property, \u001b[38;5;28mself\u001b[39m)\n\u001b[0;32m--> 291\u001b[0m     connection\u001b[38;5;241m.\u001b[39mconnect_to_java_server()\n\u001b[1;32m    292\u001b[0m     \u001b[38;5;28mself\u001b[39m\u001b[38;5;241m.\u001b[39mset_thread_connection(connection)\n\u001b[1;32m    293\u001b[0m     \u001b[38;5;28;01mreturn\u001b[39;00m connection\n",
      "File \u001b[0;32m/opt/anaconda3/lib/python3.12/site-packages/py4j/clientserver.py:438\u001b[0m, in \u001b[0;36mClientServerConnection.connect_to_java_server\u001b[0;34m(self)\u001b[0m\n\u001b[1;32m    435\u001b[0m \u001b[38;5;28;01mif\u001b[39;00m \u001b[38;5;28mself\u001b[39m\u001b[38;5;241m.\u001b[39mssl_context:\n\u001b[1;32m    436\u001b[0m     \u001b[38;5;28mself\u001b[39m\u001b[38;5;241m.\u001b[39msocket \u001b[38;5;241m=\u001b[39m \u001b[38;5;28mself\u001b[39m\u001b[38;5;241m.\u001b[39mssl_context\u001b[38;5;241m.\u001b[39mwrap_socket(\n\u001b[1;32m    437\u001b[0m         \u001b[38;5;28mself\u001b[39m\u001b[38;5;241m.\u001b[39msocket, server_hostname\u001b[38;5;241m=\u001b[39m\u001b[38;5;28mself\u001b[39m\u001b[38;5;241m.\u001b[39mjava_address)\n\u001b[0;32m--> 438\u001b[0m \u001b[38;5;28mself\u001b[39m\u001b[38;5;241m.\u001b[39msocket\u001b[38;5;241m.\u001b[39mconnect((\u001b[38;5;28mself\u001b[39m\u001b[38;5;241m.\u001b[39mjava_address, \u001b[38;5;28mself\u001b[39m\u001b[38;5;241m.\u001b[39mjava_port))\n\u001b[1;32m    439\u001b[0m \u001b[38;5;28mself\u001b[39m\u001b[38;5;241m.\u001b[39mstream \u001b[38;5;241m=\u001b[39m \u001b[38;5;28mself\u001b[39m\u001b[38;5;241m.\u001b[39msocket\u001b[38;5;241m.\u001b[39mmakefile(\u001b[38;5;124m\"\u001b[39m\u001b[38;5;124mrb\u001b[39m\u001b[38;5;124m\"\u001b[39m)\n\u001b[1;32m    440\u001b[0m \u001b[38;5;28mself\u001b[39m\u001b[38;5;241m.\u001b[39mis_connected \u001b[38;5;241m=\u001b[39m \u001b[38;5;28;01mTrue\u001b[39;00m\n",
      "\u001b[0;31mConnectionRefusedError\u001b[0m: [Errno 61] Connection refused"
     ]
    }
   ],
   "source": [
    "from pyspark.ml.feature import VectorAssembler\n",
    "\n",
    "# Especificar las columnas de entrada que deseas usar para el modelo\n",
    "feature_columns = ['Marital_Status_Index', 'Age at enrollment', 'Gender', 'Tuition fees up to date']  # Ajusta según las columnas que uses\n",
    "\n",
    "# Usar un nombre diferente para la columna de características\n",
    "assembler = VectorAssembler(inputCols=feature_columns, outputCol=\"assembled_features\")\n",
    "\n",
    "# Transformar los datos\n",
    "assembled_data = assembler.transform(indexed_df)\n",
    "\n",
    "# Verificar el DataFrame resultante\n",
    "assembled_data.show()\n"
   ]
  },
  {
   "cell_type": "code",
   "execution_count": 44,
   "id": "9f2de6bb-2a3e-41d3-aea9-c4bc394dd6d0",
   "metadata": {},
   "outputs": [
    {
     "name": "stdout",
     "output_type": "stream",
     "text": [
      "Datos de entrenamiento: 3576 filas\n",
      "Datos de prueba: 848 filas\n"
     ]
    }
   ],
   "source": [
    "# Dividir los datos en un conjunto de entrenamiento y prueba\n",
    "train_data, test_data = assembled_data.randomSplit([0.8, 0.2], seed=1234)\n",
    "\n",
    "# Verifica las particiones\n",
    "print(f\"Datos de entrenamiento: {train_data.count()} filas\")\n",
    "print(f\"Datos de prueba: {test_data.count()} filas\")\n"
   ]
  },
  {
   "cell_type": "code",
   "execution_count": 48,
   "id": "a45ec095-b8cc-4a5a-bbd9-ec1e127ba9e1",
   "metadata": {},
   "outputs": [
    {
     "name": "stdout",
     "output_type": "stream",
     "text": [
      "+--------+--------------+\n",
      "|  Target|indexed_Target|\n",
      "+--------+--------------+\n",
      "| Dropout|           1.0|\n",
      "|Graduate|           0.0|\n",
      "| Dropout|           1.0|\n",
      "|Graduate|           0.0|\n",
      "|Graduate|           0.0|\n",
      "|Graduate|           0.0|\n",
      "|Graduate|           0.0|\n",
      "| Dropout|           1.0|\n",
      "|Graduate|           0.0|\n",
      "| Dropout|           1.0|\n",
      "|Graduate|           0.0|\n",
      "|Graduate|           0.0|\n",
      "| Dropout|           1.0|\n",
      "|Graduate|           0.0|\n",
      "|Graduate|           0.0|\n",
      "| Dropout|           1.0|\n",
      "|Enrolled|           2.0|\n",
      "|Graduate|           0.0|\n",
      "|Graduate|           0.0|\n",
      "|Enrolled|           2.0|\n",
      "+--------+--------------+\n",
      "only showing top 20 rows\n",
      "\n"
     ]
    }
   ],
   "source": [
    "from pyspark.ml.feature import StringIndexer\n",
    "\n",
    "# Crear un indexador para la columna 'Target'\n",
    "indexer = StringIndexer(inputCol=\"Target\", outputCol=\"indexed_Target\")\n",
    "\n",
    "# Aplicar el indexador a los datos\n",
    "indexed_data = indexer.fit(assembled_data).transform(assembled_data)\n",
    "\n",
    "# Mostrar las primeras filas para verificar\n",
    "indexed_data.select(\"Target\", \"indexed_Target\").show()\n"
   ]
  },
  {
   "cell_type": "code",
   "execution_count": 50,
   "id": "d4a85695-b3a9-4db5-8ac7-fb9cdad69b6b",
   "metadata": {},
   "outputs": [
    {
     "name": "stdout",
     "output_type": "stream",
     "text": [
      "RandomForestClassificationModel: uid=RandomForestClassifier_deef39a3c015, numTrees=20, numClasses=3, numFeatures=4\n"
     ]
    }
   ],
   "source": [
    "# Dividir los datos en entrenamiento y prueba\n",
    "train_data, test_data = indexed_data.randomSplit([0.8, 0.2], seed=1234)\n",
    "\n",
    "# Inicializar el clasificador RandomForest con la nueva columna numérica\n",
    "rf = RandomForestClassifier(labelCol=\"indexed_Target\", featuresCol=\"assembled_features\")\n",
    "\n",
    "# Entrenar el modelo\n",
    "model = rf.fit(train_data)\n",
    "\n",
    "# Verificar los parámetros del modelo\n",
    "print(model)\n"
   ]
  },
  {
   "cell_type": "code",
   "execution_count": 52,
   "id": "7d79b695-2fbc-4365-b9ec-7ed425afb6a6",
   "metadata": {},
   "outputs": [
    {
     "name": "stdout",
     "output_type": "stream",
     "text": [
      "+--------------+----------+------------------+\n",
      "|indexed_Target|prediction|assembled_features|\n",
      "+--------------+----------+------------------+\n",
      "|           1.0|       1.0|[0.0,18.0,1.0,0.0]|\n",
      "|           1.0|       0.0|[0.0,21.0,1.0,1.0]|\n",
      "|           1.0|       0.0|[0.0,20.0,1.0,1.0]|\n",
      "|           2.0|       0.0|[0.0,19.0,1.0,1.0]|\n",
      "|           0.0|       0.0|[0.0,20.0,0.0,1.0]|\n",
      "|           0.0|       0.0|[0.0,20.0,0.0,1.0]|\n",
      "|           2.0|       0.0|[0.0,19.0,1.0,1.0]|\n",
      "|           0.0|       0.0|[0.0,21.0,1.0,1.0]|\n",
      "|           1.0|       0.0|[0.0,18.0,0.0,1.0]|\n",
      "|           0.0|       0.0|[0.0,18.0,0.0,1.0]|\n",
      "|           0.0|       0.0|[0.0,18.0,0.0,1.0]|\n",
      "|           0.0|       0.0|[0.0,18.0,0.0,1.0]|\n",
      "|           1.0|       0.0|[0.0,18.0,0.0,1.0]|\n",
      "|           0.0|       0.0|[0.0,18.0,0.0,1.0]|\n",
      "|           0.0|       0.0|[0.0,21.0,0.0,1.0]|\n",
      "|           2.0|       0.0|[0.0,18.0,0.0,1.0]|\n",
      "|           0.0|       0.0|[0.0,19.0,1.0,1.0]|\n",
      "|           0.0|       0.0|[0.0,20.0,1.0,1.0]|\n",
      "|           0.0|       0.0|[0.0,18.0,0.0,1.0]|\n",
      "|           1.0|       0.0|[0.0,18.0,1.0,1.0]|\n",
      "+--------------+----------+------------------+\n",
      "only showing top 20 rows\n",
      "\n",
      "Precisión del modelo: 0.6261792452830188\n"
     ]
    }
   ],
   "source": [
    "# Hacer predicciones sobre el conjunto de prueba\n",
    "predictions = model.transform(test_data)\n",
    "\n",
    "# Mostrar algunas predicciones\n",
    "predictions.select(\"indexed_Target\", \"prediction\", \"assembled_features\").show()\n",
    "\n",
    "# Evaluar el modelo\n",
    "from pyspark.ml.evaluation import MulticlassClassificationEvaluator\n",
    "\n",
    "evaluator = MulticlassClassificationEvaluator(labelCol=\"indexed_Target\", predictionCol=\"prediction\", metricName=\"accuracy\")\n",
    "accuracy = evaluator.evaluate(predictions)\n",
    "print(f\"Precisión del modelo: {accuracy}\")\n"
   ]
  },
  {
   "cell_type": "code",
   "execution_count": 56,
   "id": "016d1e5c-c1b5-474e-81ed-e08d6905587d",
   "metadata": {},
   "outputs": [
    {
     "data": {
      "image/png": "[encoded data removed]",
      "text/plain": [
       "<Figure size 800x600 with 1 Axes>"
      ]
     },
     "metadata": {},
     "output_type": "display_data"
    }
   ],
   "source": [
    "import matplotlib.pyplot as plt\n",
    "import pandas as pd\n",
    "\n",
    "# Convertir los datos de PySpark a un DataFrame de Pandas\n",
    "target_data = predictions.select(\"Target\").toPandas()\n",
    "\n",
    "# Graficar la distribución de la columna 'Target' como un gráfico de barras\n",
    "plt.figure(figsize=(8, 6))\n",
    "target_data['Target'].value_counts().plot(kind='bar', color='skyblue', edgecolor='black')\n",
    "plt.title('Distribución de la columna Target')\n",
    "plt.xlabel('Categoría')\n",
    "plt.ylabel('Frecuencia')\n",
    "plt.xticks(rotation=0)\n",
    "plt.show()\n"
   ]
  },
  {
   "cell_type": "code",
   "execution_count": 60,
   "id": "079ecbba-470b-4ec4-8661-ac0f5ba523a4",
   "metadata": {},
   "outputs": [
    {
     "data": {
      "image/png": "[encoded data removed]",
      "text/plain": [
       "<Figure size 1000x600 with 1 Axes>"
      ]
     },
     "metadata": {},
     "output_type": "display_data"
    }
   ],
   "source": [
    " import pandas as pd\n",
    "import matplotlib.pyplot as plt\n",
    "\n",
    "# Convertir los datos de PySpark a un DataFrame de Pandas\n",
    "data = predictions.select(\"Gender\", \"Target\").toPandas()\n",
    "\n",
    "# Crear una tabla de contingencia\n",
    "contingency_table = pd.crosstab(data['Gender'], data['Target'])\n",
    "\n",
    "# Graficar la tabla de contingencia como barras agrupadas\n",
    "contingency_table.plot(kind='bar', figsize=(10, 6), color=['skyblue', 'lightcoral', 'lightgreen'])\n",
    "plt.title('Relación entre Género y Target')\n",
    "plt.xlabel('Género')\n",
    "plt.ylabel('Frecuencia')\n",
    "plt.xticks(rotation=0)\n",
    "plt.legend(title='Target', bbox_to_anchor=(1.05, 1), loc='upper left')\n",
    "plt.tight_layout()\n",
    "plt.show()\n"
   ]
  },
  {
   "cell_type": "code",
   "execution_count": null,
   "id": "f672f915-acf7-4f84-9237-aec4314eecb0",
   "metadata": {},
   "outputs": [],
   "source": []
  }
 ],
 "metadata": {
  "kernelspec": {
   "display_name": "Python 3 (ipykernel)",
   "language": "python",
   "name": "python3"
  },
  "language_info": {
   "codemirror_mode": {
    "name": "ipython",
    "version": 3
   },
   "file_extension": ".py",
   "mimetype": "text/x-python",
   "name": "python",
   "nbconvert_exporter": "python",
   "pygments_lexer": "ipython3",
   "version": "3.12.4"
  }
 },
 "nbformat": 4,
 "nbformat_minor": 5
}
