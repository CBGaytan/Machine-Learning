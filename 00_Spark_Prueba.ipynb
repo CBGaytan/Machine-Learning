{
 "cells": [
  {
   "cell_type": "code",
   "execution_count": 24,
   "id": "1c9c6457-64bb-4cfc-8fcb-76564a2a3b7f",
   "metadata": {},
   "outputs": [],
   "source": [
    "import findspark\n",
    "findspark.init()"
   ]
  },
  {
   "cell_type": "code",
   "execution_count": 26,
   "id": "970b2fa8-6ab2-49ba-bba8-d16f2dd30c80",
   "metadata": {},
   "outputs": [],
   "source": [
    "import pyspark"
   ]
  },
  {
   "cell_type": "code",
   "execution_count": 28,
   "id": "81d695d7-aabb-4086-a43a-4e6890c6f6d1",
   "metadata": {},
   "outputs": [
    {
     "data": {
      "text/plain": [
       "<module 'pyspark.version' from '/opt/anaconda3/lib/python3.12/site-packages/pyspark/version.py'>"
      ]
     },
     "execution_count": 28,
     "metadata": {},
     "output_type": "execute_result"
    }
   ],
   "source": [
    "pyspark.version\n"
   ]
  },
  {
   "cell_type": "code",
   "execution_count": null,
   "id": "68de85a7-17d5-441c-8af2-af4ce1845631",
   "metadata": {},
   "outputs": [],
   "source": [
    "sc = pyspark.SparkContext(appName = \"prueba\")"
   ]
  },
  {
   "cell_type": "code",
   "execution_count": null,
   "id": "808a0765-6c67-4902-a58d-48e4a4aa0c70",
   "metadata": {},
   "outputs": [],
   "source": [
    "sc.stop()"
   ]
  }
 ],
 "metadata": {
  "kernelspec": {
   "display_name": "Python 3 (ipykernel)",
   "language": "python",
   "name": "python3"
  },
  "language_info": {
   "codemirror_mode": {
    "name": "ipython",
    "version": 3
   },
   "file_extension": ".py",
   "mimetype": "text/x-python",
   "name": "python",
   "nbconvert_exporter": "python",
   "pygments_lexer": "ipython3",
   "version": "3.12.4"
  }
 },
 "nbformat": 4,
 "nbformat_minor": 5
}
